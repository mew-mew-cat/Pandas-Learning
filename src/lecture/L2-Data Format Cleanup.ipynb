{
 "cells": [
  {
   "cell_type": "markdown",
   "metadata": {},
   "source": [
    "数据读进来"
   ]
  },
  {
   "cell_type": "code",
   "execution_count": 50,
   "metadata": {},
   "outputs": [],
   "source": [
    "import pandas as pd\n",
    "df = pd.read_csv('..\\\\..\\\\data\\\\猫鸭账单_2025年.csv', engine='python', encoding='utf-8-sig')"
   ]
  },
  {
   "cell_type": "markdown",
   "metadata": {},
   "source": [
    "# 1 清洗数据格式\n",
    "## 1.1 清洗表示“钱”的数据\n",
    "现在的流水是一个`object`：流水    432 non-null object\n",
    "\n",
    "但是我们如果想根据流水做一些操作，它必须得是一个数值类型\n",
    "\n",
    "所以就想办法把他变成一个数值类型"
   ]
  },
  {
   "cell_type": "code",
   "execution_count": 5,
   "metadata": {},
   "outputs": [
    {
     "name": "stdout",
     "output_type": "stream",
     "text": [
      "<class 'pandas.core.frame.DataFrame'>\n",
      "RangeIndex: 432 entries, 0 to 431\n",
      "Data columns (total 7 columns):\n",
      "摘要    432 non-null object\n",
      "日期    432 non-null object\n",
      "分类    432 non-null object\n",
      "金额    432 non-null float64\n",
      "收支    432 non-null object\n",
      "流水    432 non-null object\n",
      "月份    432 non-null object\n",
      "dtypes: float64(1), object(6)\n",
      "memory usage: 23.7+ KB\n"
     ]
    }
   ],
   "source": [
    "df.info()"
   ]
  },
  {
   "cell_type": "markdown",
   "metadata": {},
   "source": [
    "## Series的apply方法——对Series里的每个元素应用某种操作，并返回新的Series\n",
    "用`apply`函数对指定的数据列应用某种操作\n",
    "\n",
    "现在的“流水”的样子是`\"¥21,953.55\t\"`我们希望它变成的样子是`float`类型的`21953.55`\n",
    "\n",
    "那么我们做的事情就是先把这个字符串里的无效字符去掉：\n",
    "1. 去掉`￥`人民币符号\n",
    "2. 去掉所有的`,`分隔符\n",
    "\n",
    "接下来，把清洗好的“字符串”变成`float`类型，这一步我们只要使用Python的`float()`函数转换一下就可以了"
   ]
  },
  {
   "cell_type": "code",
   "execution_count": 8,
   "metadata": {},
   "outputs": [
    {
     "data": {
      "text/html": [
       "<div>\n",
       "<style scoped>\n",
       "    .dataframe tbody tr th:only-of-type {\n",
       "        vertical-align: middle;\n",
       "    }\n",
       "\n",
       "    .dataframe tbody tr th {\n",
       "        vertical-align: top;\n",
       "    }\n",
       "\n",
       "    .dataframe thead th {\n",
       "        text-align: right;\n",
       "    }\n",
       "</style>\n",
       "<table border=\"1\" class=\"dataframe\">\n",
       "  <thead>\n",
       "    <tr style=\"text-align: right;\">\n",
       "      <th></th>\n",
       "      <th>摘要</th>\n",
       "      <th>日期</th>\n",
       "      <th>分类</th>\n",
       "      <th>金额</th>\n",
       "      <th>收支</th>\n",
       "      <th>流水</th>\n",
       "      <th>月份</th>\n",
       "    </tr>\n",
       "  </thead>\n",
       "  <tbody>\n",
       "    <tr>\n",
       "      <th>86</th>\n",
       "      <td>小橘救治费用</td>\n",
       "      <td>2025/01/15</td>\n",
       "      <td>宠物</td>\n",
       "      <td>30000.00</td>\n",
       "      <td>支出</td>\n",
       "      <td>-¥30,000.00</td>\n",
       "      <td>1 月</td>\n",
       "    </tr>\n",
       "    <tr>\n",
       "      <th>160</th>\n",
       "      <td>小猫1月工资</td>\n",
       "      <td>2025/01/24</td>\n",
       "      <td>工资</td>\n",
       "      <td>21953.55</td>\n",
       "      <td>收入</td>\n",
       "      <td>¥21,953.55</td>\n",
       "      <td>1 月</td>\n",
       "    </tr>\n",
       "    <tr>\n",
       "      <th>161</th>\n",
       "      <td>小猫1月股权激励计划</td>\n",
       "      <td>2025/01/24</td>\n",
       "      <td>工资</td>\n",
       "      <td>6778.75</td>\n",
       "      <td>收入</td>\n",
       "      <td>¥6,778.75</td>\n",
       "      <td>1 月</td>\n",
       "    </tr>\n",
       "    <tr>\n",
       "      <th>162</th>\n",
       "      <td>小猫给家里转账</td>\n",
       "      <td>2025/01/29</td>\n",
       "      <td>家里</td>\n",
       "      <td>4000.00</td>\n",
       "      <td>支出</td>\n",
       "      <td>-¥4,000.00</td>\n",
       "      <td>1 月</td>\n",
       "    </tr>\n",
       "    <tr>\n",
       "      <th>169</th>\n",
       "      <td>小橘救助1月众筹收入（不含追梦筹）</td>\n",
       "      <td>2025/01/31</td>\n",
       "      <td>宠物</td>\n",
       "      <td>3307.88</td>\n",
       "      <td>收入</td>\n",
       "      <td>¥3,307.88</td>\n",
       "      <td>1 月</td>\n",
       "    </tr>\n",
       "  </tbody>\n",
       "</table>\n",
       "</div>"
      ],
      "text/plain": [
       "                    摘要          日期  分类        金额  收支           流水   月份\n",
       "86              小橘救治费用  2025/01/15  宠物  30000.00  支出  -¥30,000.00  1 月\n",
       "160             小猫1月工资  2025/01/24  工资  21953.55  收入   ¥21,953.55  1 月\n",
       "161         小猫1月股权激励计划  2025/01/24  工资   6778.75  收入    ¥6,778.75  1 月\n",
       "162            小猫给家里转账  2025/01/29  家里   4000.00  支出   -¥4,000.00  1 月\n",
       "169  小橘救助1月众筹收入（不含追梦筹）  2025/01/31  宠物   3307.88  收入    ¥3,307.88  1 月"
      ]
     },
     "execution_count": 8,
     "metadata": {},
     "output_type": "execute_result"
    }
   ],
   "source": [
    "df[df['金额']>1000].head()"
   ]
  },
  {
   "cell_type": "code",
   "execution_count": 18,
   "metadata": {},
   "outputs": [
    {
     "data": {
      "text/plain": [
       "21953.55"
      ]
     },
     "execution_count": 18,
     "metadata": {},
     "output_type": "execute_result"
    }
   ],
   "source": [
    "a = \" ¥21,953.55 \"\n",
    "b = float(a.replace(\"¥\", \"\").replace(\",\", \"\").strip())\n",
    "b"
   ]
  },
  {
   "cell_type": "code",
   "execution_count": 19,
   "metadata": {},
   "outputs": [
    {
     "data": {
      "text/plain": [
       "float"
      ]
     },
     "execution_count": 19,
     "metadata": {},
     "output_type": "execute_result"
    }
   ],
   "source": [
    "type(b)"
   ]
  },
  {
   "cell_type": "markdown",
   "metadata": {},
   "source": [
    "接下来我们对所有的“流水”都应用这一操作，用到`apply`方法\n",
    "\n",
    "`pandas.core.series.Series`的`apply`方法接收一个自定义的函数，然后它会对这个`Series`里的每个元素都应用这个函数，将它转换成函数返回值给出的样子\n",
    "\n",
    "但是它不是一个原地操作，所以要赋值回去给之前的DataFrame里的对应列（`Series`）\n",
    "\n",
    "> 注意：在我写回CSV文件之前，即使修改了读出的DataFrame，也不会改对应的CSV文件"
   ]
  },
  {
   "cell_type": "code",
   "execution_count": 56,
   "metadata": {},
   "outputs": [],
   "source": [
    "def format_flow(a):\n",
    "    return float(a.replace(\"¥\", \"\").replace(\",\", \"\").strip())\n",
    "    \n",
    "df[\"流水\"] = df[\"流水\"].apply(format_flow)"
   ]
  },
  {
   "cell_type": "code",
   "execution_count": 30,
   "metadata": {
    "scrolled": true
   },
   "outputs": [
    {
     "data": {
      "text/html": [
       "<div>\n",
       "<style scoped>\n",
       "    .dataframe tbody tr th:only-of-type {\n",
       "        vertical-align: middle;\n",
       "    }\n",
       "\n",
       "    .dataframe tbody tr th {\n",
       "        vertical-align: top;\n",
       "    }\n",
       "\n",
       "    .dataframe thead th {\n",
       "        text-align: right;\n",
       "    }\n",
       "</style>\n",
       "<table border=\"1\" class=\"dataframe\">\n",
       "  <thead>\n",
       "    <tr style=\"text-align: right;\">\n",
       "      <th></th>\n",
       "      <th>摘要</th>\n",
       "      <th>日期</th>\n",
       "      <th>分类</th>\n",
       "      <th>金额</th>\n",
       "      <th>收支</th>\n",
       "      <th>流水</th>\n",
       "      <th>月份</th>\n",
       "    </tr>\n",
       "  </thead>\n",
       "  <tbody>\n",
       "    <tr>\n",
       "      <th>0</th>\n",
       "      <td>晚餐潮牛牛</td>\n",
       "      <td>2025/01/01</td>\n",
       "      <td>饮食</td>\n",
       "      <td>182.00</td>\n",
       "      <td>支出</td>\n",
       "      <td>-182.00</td>\n",
       "      <td>1 月</td>\n",
       "    </tr>\n",
       "    <tr>\n",
       "      <th>1</th>\n",
       "      <td>午餐鲜烫牛肉粉</td>\n",
       "      <td>2025/01/01</td>\n",
       "      <td>饮食</td>\n",
       "      <td>34.90</td>\n",
       "      <td>支出</td>\n",
       "      <td>-34.90</td>\n",
       "      <td>1 月</td>\n",
       "    </tr>\n",
       "    <tr>\n",
       "      <th>2</th>\n",
       "      <td>百果园充值</td>\n",
       "      <td>2025/01/01</td>\n",
       "      <td>水果</td>\n",
       "      <td>94.00</td>\n",
       "      <td>支出</td>\n",
       "      <td>-94.00</td>\n",
       "      <td>1 月</td>\n",
       "    </tr>\n",
       "    <tr>\n",
       "      <th>3</th>\n",
       "      <td>美团买菜</td>\n",
       "      <td>2025/01/02</td>\n",
       "      <td>饮食</td>\n",
       "      <td>42.88</td>\n",
       "      <td>支出</td>\n",
       "      <td>-42.88</td>\n",
       "      <td>1 月</td>\n",
       "    </tr>\n",
       "    <tr>\n",
       "      <th>4</th>\n",
       "      <td>一次性棉球</td>\n",
       "      <td>2025/01/01</td>\n",
       "      <td>宠物</td>\n",
       "      <td>0.60</td>\n",
       "      <td>支出</td>\n",
       "      <td>-0.60</td>\n",
       "      <td>1 月</td>\n",
       "    </tr>\n",
       "  </tbody>\n",
       "</table>\n",
       "</div>"
      ],
      "text/plain": [
       "        摘要          日期  分类      金额  收支      流水   月份\n",
       "0    晚餐潮牛牛  2025/01/01  饮食  182.00  支出 -182.00  1 月\n",
       "1  午餐鲜烫牛肉粉  2025/01/01  饮食   34.90  支出  -34.90  1 月\n",
       "2    百果园充值  2025/01/01  水果   94.00  支出  -94.00  1 月\n",
       "3     美团买菜  2025/01/02  饮食   42.88  支出  -42.88  1 月\n",
       "4    一次性棉球  2025/01/01  宠物    0.60  支出   -0.60  1 月"
      ]
     },
     "execution_count": 30,
     "metadata": {},
     "output_type": "execute_result"
    }
   ],
   "source": [
    "df.head()"
   ]
  },
  {
   "cell_type": "markdown",
   "metadata": {},
   "source": [
    "## 1.2 清洗表示“时间”的数据"
   ]
  },
  {
   "cell_type": "code",
   "execution_count": 31,
   "metadata": {},
   "outputs": [
    {
     "name": "stdout",
     "output_type": "stream",
     "text": [
      "<class 'pandas.core.frame.DataFrame'>\n",
      "RangeIndex: 432 entries, 0 to 431\n",
      "Data columns (total 7 columns):\n",
      "摘要    432 non-null object\n",
      "日期    432 non-null object\n",
      "分类    432 non-null object\n",
      "金额    432 non-null float64\n",
      "收支    432 non-null object\n",
      "流水    432 non-null float64\n",
      "月份    432 non-null object\n",
      "dtypes: float64(2), object(5)\n",
      "memory usage: 23.7+ KB\n"
     ]
    }
   ],
   "source": [
    "df.info()"
   ]
  },
  {
   "cell_type": "markdown",
   "metadata": {},
   "source": [
    "现在，我们的“日期”这一列其实还是普通的字符串，会有什么不好的呢？就是计算一些时间相关的东西比较麻烦，比如我想知道两个日期之间相差多少天，或者相差多少个月，拿字符串去计算是非常麻烦的。\n",
    "\n",
    "但是Python其实提供了表示时间的数据类型，我们只要想办法把它转换成对应的类型就可以了！"
   ]
  },
  {
   "cell_type": "code",
   "execution_count": 32,
   "metadata": {},
   "outputs": [
    {
     "ename": "TypeError",
     "evalue": "unsupported operand type(s) for -: 'str' and 'str'",
     "output_type": "error",
     "traceback": [
      "\u001b[1;31m---------------------------------------------------------------------------\u001b[0m",
      "\u001b[1;31mTypeError\u001b[0m                                 Traceback (most recent call last)",
      "\u001b[1;32m<ipython-input-32-b04daeff6128>\u001b[0m in \u001b[0;36m<module>\u001b[1;34m()\u001b[0m\n\u001b[1;32m----> 1\u001b[1;33m \u001b[1;34m\"2025/01/04\"\u001b[0m \u001b[1;33m-\u001b[0m \u001b[1;34m\"2025/01/02\"\u001b[0m\u001b[1;33m\u001b[0m\u001b[0m\n\u001b[0m",
      "\u001b[1;31mTypeError\u001b[0m: unsupported operand type(s) for -: 'str' and 'str'"
     ]
    }
   ],
   "source": [
    "\"2025/01/04\" - \"2025/01/02\""
   ]
  },
  {
   "cell_type": "markdown",
   "metadata": {},
   "source": [
    "## Python中的datetime模块介绍\n",
    "Python里经常用这个模块表示时间"
   ]
  },
  {
   "cell_type": "code",
   "execution_count": 34,
   "metadata": {},
   "outputs": [],
   "source": [
    "from datetime import datetime"
   ]
  },
  {
   "cell_type": "code",
   "execution_count": 40,
   "metadata": {},
   "outputs": [],
   "source": [
    "dt_format = \"%Y/%m/%d\" # 格式串，告诉datetime我要以怎样的方式提供给你时间字符串\n",
    "dt1 = datetime.strptime(\"2025/01/02\", dt_format)\n",
    "dt2 = datetime.strptime(\"2025/01/04\", dt_format)"
   ]
  },
  {
   "cell_type": "code",
   "execution_count": 43,
   "metadata": {
    "scrolled": true
   },
   "outputs": [
    {
     "data": {
      "text/plain": [
       "2"
      ]
     },
     "execution_count": 43,
     "metadata": {},
     "output_type": "execute_result"
    }
   ],
   "source": [
    "dt_diff = dt2 - dt1\n",
    "dt_diff.days"
   ]
  },
  {
   "cell_type": "markdown",
   "metadata": {},
   "source": [
    "### 1.2.1 第一种方法\n",
    "手写模式串，然后使用`datetime.strptime`进行按模式读取的转换"
   ]
  },
  {
   "cell_type": "code",
   "execution_count": 45,
   "metadata": {},
   "outputs": [],
   "source": [
    "def format_time(t):\n",
    "    return datetime.strptime(t, \"%Y/%m/%d\")\n",
    "df['日期'] = df['日期'].apply(format_time)"
   ]
  },
  {
   "cell_type": "code",
   "execution_count": 47,
   "metadata": {},
   "outputs": [
    {
     "data": {
      "text/plain": [
       "0   2025-01-01\n",
       "1   2025-01-01\n",
       "2   2025-01-01\n",
       "3   2025-01-02\n",
       "4   2025-01-01\n",
       "Name: 日期, dtype: datetime64[ns]"
      ]
     },
     "execution_count": 47,
     "metadata": {},
     "output_type": "execute_result"
    }
   ],
   "source": [
    "df['日期'].head()"
   ]
  },
  {
   "cell_type": "markdown",
   "metadata": {},
   "source": [
    "### 1.2.2 第二种方法\n",
    "针对比较规整的日期字符串，可以直接使用`pandas`模块提供的`to_datetime`方法，该方法接收一个`Series`，然后将这个`Series`里的所有日期字符串数据都变成`datetime`类型，最终返回一个新的`Series`"
   ]
  },
  {
   "cell_type": "code",
   "execution_count": 51,
   "metadata": {},
   "outputs": [
    {
     "name": "stdout",
     "output_type": "stream",
     "text": [
      "<class 'pandas.core.frame.DataFrame'>\n",
      "RangeIndex: 432 entries, 0 to 431\n",
      "Data columns (total 7 columns):\n",
      "摘要    432 non-null object\n",
      "日期    432 non-null object\n",
      "分类    432 non-null object\n",
      "金额    432 non-null float64\n",
      "收支    432 non-null object\n",
      "流水    432 non-null object\n",
      "月份    432 non-null object\n",
      "dtypes: float64(1), object(6)\n",
      "memory usage: 23.7+ KB\n"
     ]
    }
   ],
   "source": [
    "df.info()"
   ]
  },
  {
   "cell_type": "code",
   "execution_count": 54,
   "metadata": {},
   "outputs": [],
   "source": [
    "df['日期'] = pd.to_datetime(df['日期'])"
   ]
  },
  {
   "cell_type": "code",
   "execution_count": 57,
   "metadata": {},
   "outputs": [
    {
     "name": "stdout",
     "output_type": "stream",
     "text": [
      "<class 'pandas.core.frame.DataFrame'>\n",
      "RangeIndex: 432 entries, 0 to 431\n",
      "Data columns (total 7 columns):\n",
      "摘要    432 non-null object\n",
      "日期    432 non-null datetime64[ns]\n",
      "分类    432 non-null object\n",
      "金额    432 non-null float64\n",
      "收支    432 non-null object\n",
      "流水    432 non-null float64\n",
      "月份    432 non-null object\n",
      "dtypes: datetime64[ns](1), float64(2), object(4)\n",
      "memory usage: 23.7+ KB\n"
     ]
    }
   ],
   "source": [
    "df.info()"
   ]
  },
  {
   "cell_type": "markdown",
   "metadata": {},
   "source": [
    "我们把月份变成正确的月份数据，直接用`datetime`组成的`Series`访问它的`dt.month`属性就是这个`datetime`的月份组成的`Series`"
   ]
  },
  {
   "cell_type": "code",
   "execution_count": 61,
   "metadata": {},
   "outputs": [],
   "source": [
    "df['月份'] = df['日期'].dt.month"
   ]
  },
  {
   "cell_type": "code",
   "execution_count": 62,
   "metadata": {},
   "outputs": [
    {
     "data": {
      "text/html": [
       "<div>\n",
       "<style scoped>\n",
       "    .dataframe tbody tr th:only-of-type {\n",
       "        vertical-align: middle;\n",
       "    }\n",
       "\n",
       "    .dataframe tbody tr th {\n",
       "        vertical-align: top;\n",
       "    }\n",
       "\n",
       "    .dataframe thead th {\n",
       "        text-align: right;\n",
       "    }\n",
       "</style>\n",
       "<table border=\"1\" class=\"dataframe\">\n",
       "  <thead>\n",
       "    <tr style=\"text-align: right;\">\n",
       "      <th></th>\n",
       "      <th>摘要</th>\n",
       "      <th>日期</th>\n",
       "      <th>分类</th>\n",
       "      <th>金额</th>\n",
       "      <th>收支</th>\n",
       "      <th>流水</th>\n",
       "      <th>月份</th>\n",
       "    </tr>\n",
       "  </thead>\n",
       "  <tbody>\n",
       "    <tr>\n",
       "      <th>0</th>\n",
       "      <td>晚餐潮牛牛</td>\n",
       "      <td>2025-01-01</td>\n",
       "      <td>饮食</td>\n",
       "      <td>182.00</td>\n",
       "      <td>支出</td>\n",
       "      <td>-182.00</td>\n",
       "      <td>1</td>\n",
       "    </tr>\n",
       "    <tr>\n",
       "      <th>1</th>\n",
       "      <td>午餐鲜烫牛肉粉</td>\n",
       "      <td>2025-01-01</td>\n",
       "      <td>饮食</td>\n",
       "      <td>34.90</td>\n",
       "      <td>支出</td>\n",
       "      <td>-34.90</td>\n",
       "      <td>1</td>\n",
       "    </tr>\n",
       "    <tr>\n",
       "      <th>2</th>\n",
       "      <td>百果园充值</td>\n",
       "      <td>2025-01-01</td>\n",
       "      <td>水果</td>\n",
       "      <td>94.00</td>\n",
       "      <td>支出</td>\n",
       "      <td>-94.00</td>\n",
       "      <td>1</td>\n",
       "    </tr>\n",
       "    <tr>\n",
       "      <th>3</th>\n",
       "      <td>美团买菜</td>\n",
       "      <td>2025-01-02</td>\n",
       "      <td>饮食</td>\n",
       "      <td>42.88</td>\n",
       "      <td>支出</td>\n",
       "      <td>-42.88</td>\n",
       "      <td>1</td>\n",
       "    </tr>\n",
       "    <tr>\n",
       "      <th>4</th>\n",
       "      <td>一次性棉球</td>\n",
       "      <td>2025-01-01</td>\n",
       "      <td>宠物</td>\n",
       "      <td>0.60</td>\n",
       "      <td>支出</td>\n",
       "      <td>-0.60</td>\n",
       "      <td>1</td>\n",
       "    </tr>\n",
       "  </tbody>\n",
       "</table>\n",
       "</div>"
      ],
      "text/plain": [
       "        摘要         日期  分类      金额  收支      流水  月份\n",
       "0    晚餐潮牛牛 2025-01-01  饮食  182.00  支出 -182.00   1\n",
       "1  午餐鲜烫牛肉粉 2025-01-01  饮食   34.90  支出  -34.90   1\n",
       "2    百果园充值 2025-01-01  水果   94.00  支出  -94.00   1\n",
       "3     美团买菜 2025-01-02  饮食   42.88  支出  -42.88   1\n",
       "4    一次性棉球 2025-01-01  宠物    0.60  支出   -0.60   1"
      ]
     },
     "execution_count": 62,
     "metadata": {},
     "output_type": "execute_result"
    }
   ],
   "source": [
    "df.head()"
   ]
  },
  {
   "cell_type": "code",
   "execution_count": null,
   "metadata": {},
   "outputs": [],
   "source": []
  }
 ],
 "metadata": {
  "kernelspec": {
   "display_name": "Python 3",
   "language": "python",
   "name": "python3"
  },
  "language_info": {
   "codemirror_mode": {
    "name": "ipython",
    "version": 3
   },
   "file_extension": ".py",
   "mimetype": "text/x-python",
   "name": "python",
   "nbconvert_exporter": "python",
   "pygments_lexer": "ipython3",
   "version": "3.7.0"
  }
 },
 "nbformat": 4,
 "nbformat_minor": 2
}
