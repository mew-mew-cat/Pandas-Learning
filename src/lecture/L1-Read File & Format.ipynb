{
 "cells": [
  {
   "cell_type": "markdown",
   "metadata": {},
   "source": [
    "# 1 数据分析最常用的文件格式——CSV文件介绍\n",
    "在数据分析里，Excel表格是最常用的数据源之一，其中`.csv`文件是最为简单易用的且能被Excel识别的一种文件格式。\n",
    "\n",
    "如果你用文本方式打开，就能看到CSV（Comma-Separated Values，逗号分隔值）文件的格式是：\n",
    "1. 每行一条记录，即Excel表里的一行\n",
    "2. 每条记录中的数据采用逗号分隔，也即Excel表里的一个单元格\n",
    "\n",
    "例如，你可以在飞书猫鸭账单导出2025年的账单数据，并选择CSV格式导出，将它放在本项目的`data\\`目录下面，得到一个能用Excel打开的`.csv`文件。\n",
    "\n",
    "如果你直接使用Excel或者WPS打开，看到的就是一张账单数据表。但如果你右击选择用记事本打开（文本方式查看），就会发现文件的实际存储格式是：\n",
    "```\n",
    "摘要,日期,分类,金额,收支,流水,月份\n",
    "晚餐潮牛牛,2025/01/01,饮食,182,支出,-¥182.00,1 月\n",
    "午餐鲜烫牛肉粉,2025/01/01,饮食,34.9,支出,-¥34.90,1 月\n",
    "百果园充值,2025/01/01,水果,94,支出,-¥94.00,1 月\n",
    "```\n",
    "其中第一行是表格的表头，第二行开始每一行是表格里的一项账单记录，无论是表头还是记录，都是使用逗号分割每个数据项的。"
   ]
  },
  {
   "cell_type": "markdown",
   "metadata": {},
   "source": [
    "# 2 如何使用Pandas读取CSV文件中的数据？"
   ]
  },
  {
   "cell_type": "markdown",
   "metadata": {},
   "source": [
    "## 2.1 导入Pandas库\n",
    "`import`和`as`是两个常用的关键字，用于导入模块并为模块或对象设置别名。 \n",
    "\n",
    "“模块”可以简单理解成“别人写好的代码库”，Pandas就是Python中的一种“模块”，也即别人写好的用于进行数据处理和分析的代码库。\n",
    "\n",
    "我们已经预先给本地Python环境下载安装了Pandas库，下面使用`import`关键字将`pandas`模块导入，并设置别名为`pd`，这样就可以方便地在后续的代码里使用`pd.xxx`来使用`pandas`模块中的功能了。\n",
    "\n",
    "运行一下下面的代码块（点击代码块里，然后按下`Shift`+`Enter`键）。"
   ]
  },
  {
   "cell_type": "code",
   "execution_count": 1,
   "metadata": {},
   "outputs": [],
   "source": [
    "import pandas as pd"
   ]
  },
  {
   "cell_type": "markdown",
   "metadata": {},
   "source": [
    "导入模块通常是没有输出的，只要运行一下没有输出报错信息，就说明模块被成功导入了。\n",
    "\n",
    "> 之后阅读到的每个代码块，你都要用这样的方式才能运行和检查有没有没正确执行，以及获取输出。"
   ]
  },
  {
   "cell_type": "markdown",
   "metadata": {},
   "source": [
    "## 2.2 加载数据\n",
    "刚刚我们已经导入了`pandas`模块，并为其设置了别名`pd`。接下来我们尝试使用Pandas将猫鸭账单读取到内存里，这样我们才能用Pandas的各种强有力的功能来操作它！\n",
    "\n",
    "下面一行代码，使用Pandas模块里的`read_csv`方法读取`data\\猫鸭账单_2025年.csv`数据文件，由于我们当前的Jupyter记事本文件放在`Pandas-Learning\\src\\lecture`下面，而这个账单数据文件放在了`Pandas-Learning\\data`下面，因此我们要从当前记事本文件找到这个数据文件，就需要先父级目录走两次，然后进入`data`目录下，因此我们需要设置**相对路径**为`..\\..\\data\\猫鸭账单_2025年.csv`。\n",
    "\n",
    "`read_csv`的第一个参数是要读取的CSV文件的路径，后面的`engine`和`encoding`参数是和文件编码格式相关的，先不用太在意。"
   ]
  },
  {
   "cell_type": "code",
   "execution_count": 2,
   "metadata": {},
   "outputs": [],
   "source": [
    "df = pd.read_csv('..\\\\..\\\\data\\\\猫鸭账单_2025年.csv', engine='python', encoding='utf-8-sig')"
   ]
  },
  {
   "cell_type": "markdown",
   "metadata": {},
   "source": [
    "`read_csv`将会返回读取的数据。我们使用了一个变量`df`来接受这个函数的返回值，先来看看这个返回值是什么类型：\n",
    "\n",
    "> 在Python中，可以使用`type(v)`来查看变量`v`的数据类型\n",
    ">\n",
    "> 在Jupyter Notebook中，不用`print()`就能直接将输出显示在下面，因此，下面的代码等价于`print(type(df))`"
   ]
  },
  {
   "cell_type": "code",
   "execution_count": 3,
   "metadata": {},
   "outputs": [
    {
     "data": {
      "text/plain": [
       "pandas.core.frame.DataFrame"
      ]
     },
     "execution_count": 3,
     "metadata": {},
     "output_type": "execute_result"
    }
   ],
   "source": [
    "type(df)"
   ]
  },
  {
   "cell_type": "markdown",
   "metadata": {},
   "source": [
    "从上面这行的输出可以看到，变量`df`的数据类型是`pandas.core.frame.DataFrame`，也就是说`read_csv`返回的是一个类型为`DataFrame`的对象。\n",
    "\n",
    "通常，刚拿到一个`DataFrame`对象，我们可以用它的`info()`方法查看一下它的结构："
   ]
  },
  {
   "cell_type": "code",
   "execution_count": 4,
   "metadata": {},
   "outputs": [
    {
     "name": "stdout",
     "output_type": "stream",
     "text": [
      "<class 'pandas.core.frame.DataFrame'>\n",
      "RangeIndex: 432 entries, 0 to 431\n",
      "Data columns (total 7 columns):\n",
      "摘要    432 non-null object\n",
      "日期    432 non-null object\n",
      "分类    432 non-null object\n",
      "金额    432 non-null float64\n",
      "收支    432 non-null object\n",
      "流水    432 non-null object\n",
      "月份    432 non-null object\n",
      "dtypes: float64(1), object(6)\n",
      "memory usage: 23.7+ KB\n"
     ]
    }
   ],
   "source": [
    "df.info()"
   ]
  },
  {
   "cell_type": "markdown",
   "metadata": {},
   "source": [
    "从上面输出的信息可以看出，一共有7列以及每列的非空数据行数，其中“金额”这一列的数据类型是`float64`，其他列都是`object`类型的数据。"
   ]
  },
  {
   "cell_type": "markdown",
   "metadata": {},
   "source": [
    "# 3 如何查看DataFrame对象里的数据？\n",
    "简单的说，Pandas里的`DataFrame`是一个二维标签化的数据结构，由行和列组成。那么，怎么使用它呢？目前我们虽然导入了猫鸭账单，还什么都看不到呢。\n",
    "\n",
    "实际上，在Jupyter里直接写一行`df`就能查看这个`DataFrame`类型的变量`df`里所有的数据了，但是这个猫鸭账单表里的数据行太多了，我们学习一些其他的查看方法。\n",
    "## 3.1 查看头尾几行数据"
   ]
  },
  {
   "cell_type": "markdown",
   "metadata": {},
   "source": [
    "### 3.1.1 查看头几行数据\n",
    "使用`DataFrame`对象的`head(n)`方法查看数据的前`n`行，如果不输入`n`，默认查看前5行。\n",
    "\n",
    "什么场景下需要使用`head`？\n",
    "1. 在数据分析工作里，表格里的数据条目通常很多，分析师有时想看看表里的数据长什么样子，所以才会有这个`head`方法。\n",
    "2. 在数据分析的过程中可能会对表格做一些变换，多数时候变换的结果也是`DataFrame`，这个时候也需要直观的看看这个`DataFrame`里的数据长什么样子。"
   ]
  },
  {
   "cell_type": "code",
   "execution_count": 5,
   "metadata": {},
   "outputs": [
    {
     "data": {
      "text/html": [
       "<div>\n",
       "<style scoped>\n",
       "    .dataframe tbody tr th:only-of-type {\n",
       "        vertical-align: middle;\n",
       "    }\n",
       "\n",
       "    .dataframe tbody tr th {\n",
       "        vertical-align: top;\n",
       "    }\n",
       "\n",
       "    .dataframe thead th {\n",
       "        text-align: right;\n",
       "    }\n",
       "</style>\n",
       "<table border=\"1\" class=\"dataframe\">\n",
       "  <thead>\n",
       "    <tr style=\"text-align: right;\">\n",
       "      <th></th>\n",
       "      <th>摘要</th>\n",
       "      <th>日期</th>\n",
       "      <th>分类</th>\n",
       "      <th>金额</th>\n",
       "      <th>收支</th>\n",
       "      <th>流水</th>\n",
       "      <th>月份</th>\n",
       "    </tr>\n",
       "  </thead>\n",
       "  <tbody>\n",
       "    <tr>\n",
       "      <th>0</th>\n",
       "      <td>晚餐潮牛牛</td>\n",
       "      <td>2025/01/01</td>\n",
       "      <td>饮食</td>\n",
       "      <td>182.00</td>\n",
       "      <td>支出</td>\n",
       "      <td>-¥182.00</td>\n",
       "      <td>1 月</td>\n",
       "    </tr>\n",
       "    <tr>\n",
       "      <th>1</th>\n",
       "      <td>午餐鲜烫牛肉粉</td>\n",
       "      <td>2025/01/01</td>\n",
       "      <td>饮食</td>\n",
       "      <td>34.90</td>\n",
       "      <td>支出</td>\n",
       "      <td>-¥34.90</td>\n",
       "      <td>1 月</td>\n",
       "    </tr>\n",
       "    <tr>\n",
       "      <th>2</th>\n",
       "      <td>百果园充值</td>\n",
       "      <td>2025/01/01</td>\n",
       "      <td>水果</td>\n",
       "      <td>94.00</td>\n",
       "      <td>支出</td>\n",
       "      <td>-¥94.00</td>\n",
       "      <td>1 月</td>\n",
       "    </tr>\n",
       "    <tr>\n",
       "      <th>3</th>\n",
       "      <td>美团买菜</td>\n",
       "      <td>2025/01/02</td>\n",
       "      <td>饮食</td>\n",
       "      <td>42.88</td>\n",
       "      <td>支出</td>\n",
       "      <td>-¥42.88</td>\n",
       "      <td>1 月</td>\n",
       "    </tr>\n",
       "    <tr>\n",
       "      <th>4</th>\n",
       "      <td>一次性棉球</td>\n",
       "      <td>2025/01/01</td>\n",
       "      <td>宠物</td>\n",
       "      <td>0.60</td>\n",
       "      <td>支出</td>\n",
       "      <td>-¥0.60</td>\n",
       "      <td>1 月</td>\n",
       "    </tr>\n",
       "    <tr>\n",
       "      <th>5</th>\n",
       "      <td>午餐桂山禾</td>\n",
       "      <td>2025/01/02</td>\n",
       "      <td>饮食</td>\n",
       "      <td>19.80</td>\n",
       "      <td>支出</td>\n",
       "      <td>-¥19.80</td>\n",
       "      <td>1 月</td>\n",
       "    </tr>\n",
       "  </tbody>\n",
       "</table>\n",
       "</div>"
      ],
      "text/plain": [
       "        摘要          日期  分类      金额  收支        流水   月份\n",
       "0    晚餐潮牛牛  2025/01/01  饮食  182.00  支出  -¥182.00  1 月\n",
       "1  午餐鲜烫牛肉粉  2025/01/01  饮食   34.90  支出   -¥34.90  1 月\n",
       "2    百果园充值  2025/01/01  水果   94.00  支出   -¥94.00  1 月\n",
       "3     美团买菜  2025/01/02  饮食   42.88  支出   -¥42.88  1 月\n",
       "4    一次性棉球  2025/01/01  宠物    0.60  支出    -¥0.60  1 月\n",
       "5    午餐桂山禾  2025/01/02  饮食   19.80  支出   -¥19.80  1 月"
      ]
     },
     "execution_count": 5,
     "metadata": {},
     "output_type": "execute_result"
    }
   ],
   "source": [
    "df.head(6)"
   ]
  },
  {
   "cell_type": "markdown",
   "metadata": {},
   "source": [
    "使用这种方式，`DataFrame`会把表头显示在最上方，把除了表头之外的行作为实际的数据行，并将这些行从`0`开始编号，编号后的行号显示在左侧。\n",
    "\n",
    "### 3.2 查看尾几行数据\n",
    "类似的方式，使用`tail(n)`可以查看数据表的后`n`行："
   ]
  },
  {
   "cell_type": "code",
   "execution_count": 6,
   "metadata": {},
   "outputs": [
    {
     "data": {
      "text/html": [
       "<div>\n",
       "<style scoped>\n",
       "    .dataframe tbody tr th:only-of-type {\n",
       "        vertical-align: middle;\n",
       "    }\n",
       "\n",
       "    .dataframe tbody tr th {\n",
       "        vertical-align: top;\n",
       "    }\n",
       "\n",
       "    .dataframe thead th {\n",
       "        text-align: right;\n",
       "    }\n",
       "</style>\n",
       "<table border=\"1\" class=\"dataframe\">\n",
       "  <thead>\n",
       "    <tr style=\"text-align: right;\">\n",
       "      <th></th>\n",
       "      <th>摘要</th>\n",
       "      <th>日期</th>\n",
       "      <th>分类</th>\n",
       "      <th>金额</th>\n",
       "      <th>收支</th>\n",
       "      <th>流水</th>\n",
       "      <th>月份</th>\n",
       "    </tr>\n",
       "  </thead>\n",
       "  <tbody>\n",
       "    <tr>\n",
       "      <th>428</th>\n",
       "      <td>晚餐杭州小笼包</td>\n",
       "      <td>2025/03/14</td>\n",
       "      <td>饮食</td>\n",
       "      <td>13.47</td>\n",
       "      <td>支出</td>\n",
       "      <td>-¥13.47</td>\n",
       "      <td>3 月</td>\n",
       "    </tr>\n",
       "    <tr>\n",
       "      <th>429</th>\n",
       "      <td>百果园</td>\n",
       "      <td>2025/03/14</td>\n",
       "      <td>水果</td>\n",
       "      <td>18.39</td>\n",
       "      <td>支出</td>\n",
       "      <td>-¥18.39</td>\n",
       "      <td>3 月</td>\n",
       "    </tr>\n",
       "    <tr>\n",
       "      <th>430</th>\n",
       "      <td>午餐农耕记</td>\n",
       "      <td>2025/03/15</td>\n",
       "      <td>饮食</td>\n",
       "      <td>25.91</td>\n",
       "      <td>支出</td>\n",
       "      <td>-¥25.91</td>\n",
       "      <td>3 月</td>\n",
       "    </tr>\n",
       "    <tr>\n",
       "      <th>431</th>\n",
       "      <td>白色蕾丝丝巾</td>\n",
       "      <td>2025/03/15</td>\n",
       "      <td>服饰</td>\n",
       "      <td>0.39</td>\n",
       "      <td>支出</td>\n",
       "      <td>-¥0.39</td>\n",
       "      <td>3 月</td>\n",
       "    </tr>\n",
       "  </tbody>\n",
       "</table>\n",
       "</div>"
      ],
      "text/plain": [
       "          摘要          日期  分类     金额  收支       流水   月份\n",
       "428  晚餐杭州小笼包  2025/03/14  饮食  13.47  支出  -¥13.47  3 月\n",
       "429      百果园  2025/03/14  水果  18.39  支出  -¥18.39  3 月\n",
       "430    午餐农耕记  2025/03/15  饮食  25.91  支出  -¥25.91  3 月\n",
       "431   白色蕾丝丝巾  2025/03/15  服饰   0.39  支出   -¥0.39  3 月"
      ]
     },
     "execution_count": 6,
     "metadata": {},
     "output_type": "execute_result"
    }
   ],
   "source": [
    "df.tail(4)"
   ]
  },
  {
   "cell_type": "markdown",
   "metadata": {},
   "source": [
    "## 3.2 查看指定的行区间的数据\n",
    "### 3.2.1 采用切片方法\n",
    "还记得之前学过Python的列表切片吗？如："
   ]
  },
  {
   "cell_type": "code",
   "execution_count": 7,
   "metadata": {},
   "outputs": [
    {
     "data": {
      "text/plain": [
       "[0, 1, 2, 3, 4, 5, 6, 7, 8, 9]"
      ]
     },
     "execution_count": 7,
     "metadata": {},
     "output_type": "execute_result"
    }
   ],
   "source": [
    "num_list = [i for i in range(10)]\n",
    "num_list"
   ]
  },
  {
   "cell_type": "markdown",
   "metadata": {},
   "source": [
    "采用`num_list[a:b:c]`可以对列表`num_list`进行切片形成新列表，新列表从`num_list`的索引等于`a`的位置开始，切片结束点是索引不超过`b`的"
   ]
  },
  {
   "cell_type": "code",
   "execution_count": 8,
   "metadata": {
    "scrolled": true
   },
   "outputs": [
    {
     "data": {
      "text/plain": [
       "[5, 3]"
      ]
     },
     "execution_count": 8,
     "metadata": {},
     "output_type": "execute_result"
    }
   ],
   "source": [
    "num_list[5:1:-2]"
   ]
  },
  {
   "cell_type": "markdown",
   "metadata": {},
   "source": [
    "查看`DataFrame`指定区间的信息"
   ]
  },
  {
   "cell_type": "code",
   "execution_count": 9,
   "metadata": {
    "scrolled": true
   },
   "outputs": [
    {
     "data": {
      "text/html": [
       "<div>\n",
       "<style scoped>\n",
       "    .dataframe tbody tr th:only-of-type {\n",
       "        vertical-align: middle;\n",
       "    }\n",
       "\n",
       "    .dataframe tbody tr th {\n",
       "        vertical-align: top;\n",
       "    }\n",
       "\n",
       "    .dataframe thead th {\n",
       "        text-align: right;\n",
       "    }\n",
       "</style>\n",
       "<table border=\"1\" class=\"dataframe\">\n",
       "  <thead>\n",
       "    <tr style=\"text-align: right;\">\n",
       "      <th></th>\n",
       "      <th>摘要</th>\n",
       "      <th>日期</th>\n",
       "      <th>分类</th>\n",
       "      <th>金额</th>\n",
       "      <th>收支</th>\n",
       "      <th>流水</th>\n",
       "      <th>月份</th>\n",
       "    </tr>\n",
       "  </thead>\n",
       "  <tbody>\n",
       "    <tr>\n",
       "      <th>10</th>\n",
       "      <td>地铁</td>\n",
       "      <td>2025/01/04</td>\n",
       "      <td>交通</td>\n",
       "      <td>10.00</td>\n",
       "      <td>支出</td>\n",
       "      <td>-¥10.00</td>\n",
       "      <td>1 月</td>\n",
       "    </tr>\n",
       "    <tr>\n",
       "      <th>12</th>\n",
       "      <td>晚餐鸭蛋瘦肉粥</td>\n",
       "      <td>2025/01/04</td>\n",
       "      <td>饮食</td>\n",
       "      <td>10.37</td>\n",
       "      <td>支出</td>\n",
       "      <td>-¥10.37</td>\n",
       "      <td>1 月</td>\n",
       "    </tr>\n",
       "    <tr>\n",
       "      <th>14</th>\n",
       "      <td>自然光环试吃装</td>\n",
       "      <td>2025/01/04</td>\n",
       "      <td>宠物</td>\n",
       "      <td>17.90</td>\n",
       "      <td>支出</td>\n",
       "      <td>-¥17.90</td>\n",
       "      <td>1 月</td>\n",
       "    </tr>\n",
       "    <tr>\n",
       "      <th>16</th>\n",
       "      <td>小猫小鸭中山医院挂号</td>\n",
       "      <td>2025/01/04</td>\n",
       "      <td>医疗</td>\n",
       "      <td>31.00</td>\n",
       "      <td>支出</td>\n",
       "      <td>-¥31.00</td>\n",
       "      <td>1 月</td>\n",
       "    </tr>\n",
       "    <tr>\n",
       "      <th>18</th>\n",
       "      <td>百果园</td>\n",
       "      <td>2025/01/04</td>\n",
       "      <td>水果</td>\n",
       "      <td>61.30</td>\n",
       "      <td>支出</td>\n",
       "      <td>-¥61.30</td>\n",
       "      <td>1 月</td>\n",
       "    </tr>\n",
       "  </tbody>\n",
       "</table>\n",
       "</div>"
      ],
      "text/plain": [
       "            摘要          日期  分类     金额  收支       流水   月份\n",
       "10          地铁  2025/01/04  交通  10.00  支出  -¥10.00  1 月\n",
       "12     晚餐鸭蛋瘦肉粥  2025/01/04  饮食  10.37  支出  -¥10.37  1 月\n",
       "14     自然光环试吃装  2025/01/04  宠物  17.90  支出  -¥17.90  1 月\n",
       "16  小猫小鸭中山医院挂号  2025/01/04  医疗  31.00  支出  -¥31.00  1 月\n",
       "18         百果园  2025/01/04  水果  61.30  支出  -¥61.30  1 月"
      ]
     },
     "execution_count": 9,
     "metadata": {},
     "output_type": "execute_result"
    }
   ],
   "source": [
    "df[10:20:2]"
   ]
  },
  {
   "cell_type": "markdown",
   "metadata": {},
   "source": [
    "### 3.2.2 采用`iloc`方法\n",
    "只能传行标签，可以切片"
   ]
  },
  {
   "cell_type": "code",
   "execution_count": 10,
   "metadata": {},
   "outputs": [
    {
     "data": {
      "text/html": [
       "<div>\n",
       "<style scoped>\n",
       "    .dataframe tbody tr th:only-of-type {\n",
       "        vertical-align: middle;\n",
       "    }\n",
       "\n",
       "    .dataframe tbody tr th {\n",
       "        vertical-align: top;\n",
       "    }\n",
       "\n",
       "    .dataframe thead th {\n",
       "        text-align: right;\n",
       "    }\n",
       "</style>\n",
       "<table border=\"1\" class=\"dataframe\">\n",
       "  <thead>\n",
       "    <tr style=\"text-align: right;\">\n",
       "      <th></th>\n",
       "      <th>摘要</th>\n",
       "      <th>日期</th>\n",
       "      <th>分类</th>\n",
       "      <th>金额</th>\n",
       "      <th>收支</th>\n",
       "      <th>流水</th>\n",
       "      <th>月份</th>\n",
       "    </tr>\n",
       "  </thead>\n",
       "  <tbody>\n",
       "    <tr>\n",
       "      <th>10</th>\n",
       "      <td>地铁</td>\n",
       "      <td>2025/01/04</td>\n",
       "      <td>交通</td>\n",
       "      <td>10.00</td>\n",
       "      <td>支出</td>\n",
       "      <td>-¥10.00</td>\n",
       "      <td>1 月</td>\n",
       "    </tr>\n",
       "    <tr>\n",
       "      <th>12</th>\n",
       "      <td>晚餐鸭蛋瘦肉粥</td>\n",
       "      <td>2025/01/04</td>\n",
       "      <td>饮食</td>\n",
       "      <td>10.37</td>\n",
       "      <td>支出</td>\n",
       "      <td>-¥10.37</td>\n",
       "      <td>1 月</td>\n",
       "    </tr>\n",
       "    <tr>\n",
       "      <th>14</th>\n",
       "      <td>自然光环试吃装</td>\n",
       "      <td>2025/01/04</td>\n",
       "      <td>宠物</td>\n",
       "      <td>17.90</td>\n",
       "      <td>支出</td>\n",
       "      <td>-¥17.90</td>\n",
       "      <td>1 月</td>\n",
       "    </tr>\n",
       "    <tr>\n",
       "      <th>16</th>\n",
       "      <td>小猫小鸭中山医院挂号</td>\n",
       "      <td>2025/01/04</td>\n",
       "      <td>医疗</td>\n",
       "      <td>31.00</td>\n",
       "      <td>支出</td>\n",
       "      <td>-¥31.00</td>\n",
       "      <td>1 月</td>\n",
       "    </tr>\n",
       "    <tr>\n",
       "      <th>18</th>\n",
       "      <td>百果园</td>\n",
       "      <td>2025/01/04</td>\n",
       "      <td>水果</td>\n",
       "      <td>61.30</td>\n",
       "      <td>支出</td>\n",
       "      <td>-¥61.30</td>\n",
       "      <td>1 月</td>\n",
       "    </tr>\n",
       "  </tbody>\n",
       "</table>\n",
       "</div>"
      ],
      "text/plain": [
       "            摘要          日期  分类     金额  收支       流水   月份\n",
       "10          地铁  2025/01/04  交通  10.00  支出  -¥10.00  1 月\n",
       "12     晚餐鸭蛋瘦肉粥  2025/01/04  饮食  10.37  支出  -¥10.37  1 月\n",
       "14     自然光环试吃装  2025/01/04  宠物  17.90  支出  -¥17.90  1 月\n",
       "16  小猫小鸭中山医院挂号  2025/01/04  医疗  31.00  支出  -¥31.00  1 月\n",
       "18         百果园  2025/01/04  水果  61.30  支出  -¥61.30  1 月"
      ]
     },
     "execution_count": 10,
     "metadata": {},
     "output_type": "execute_result"
    }
   ],
   "source": [
    "df.iloc[10:20:2]"
   ]
  },
  {
   "cell_type": "code",
   "execution_count": 11,
   "metadata": {},
   "outputs": [
    {
     "data": {
      "text/plain": [
       "摘要            地铁\n",
       "日期    2025/01/04\n",
       "分类            交通\n",
       "金额            10\n",
       "收支            支出\n",
       "流水       -¥10.00\n",
       "月份           1 月\n",
       "Name: 10, dtype: object"
      ]
     },
     "execution_count": 11,
     "metadata": {},
     "output_type": "execute_result"
    }
   ],
   "source": [
    "df.iloc[10]"
   ]
  },
  {
   "cell_type": "markdown",
   "metadata": {},
   "source": [
    "### 3.2.3 采用`loc`方法"
   ]
  },
  {
   "cell_type": "code",
   "execution_count": 12,
   "metadata": {},
   "outputs": [
    {
     "data": {
      "text/plain": [
       "摘要            地铁\n",
       "日期    2025/01/04\n",
       "分类            交通\n",
       "金额            10\n",
       "收支            支出\n",
       "流水       -¥10.00\n",
       "月份           1 月\n",
       "Name: 10, dtype: object"
      ]
     },
     "execution_count": 12,
     "metadata": {},
     "output_type": "execute_result"
    }
   ],
   "source": [
    "df.loc[10]"
   ]
  },
  {
   "cell_type": "markdown",
   "metadata": {},
   "source": [
    "## 3.3 查看指定的列的数据\n",
    "### 3.3.1 查看有哪些列\n",
    "返回的是一个`pandas.core.indexes.base.Index`类型的东西"
   ]
  },
  {
   "cell_type": "code",
   "execution_count": 13,
   "metadata": {},
   "outputs": [
    {
     "data": {
      "text/plain": [
       "Index(['摘要', '日期', '分类', '金额', '收支', '流水', '月份'], dtype='object')"
      ]
     },
     "execution_count": 13,
     "metadata": {},
     "output_type": "execute_result"
    }
   ],
   "source": [
    "cols = df.columns\n",
    "cols"
   ]
  },
  {
   "cell_type": "code",
   "execution_count": 14,
   "metadata": {},
   "outputs": [
    {
     "data": {
      "text/plain": [
       "pandas.core.indexes.base.Index"
      ]
     },
     "execution_count": 14,
     "metadata": {},
     "output_type": "execute_result"
    }
   ],
   "source": [
    "type(cols)"
   ]
  },
  {
   "cell_type": "markdown",
   "metadata": {},
   "source": [
    "如果有时候用起来不方便，可以直接强制转换成`list`"
   ]
  },
  {
   "cell_type": "code",
   "execution_count": 15,
   "metadata": {},
   "outputs": [
    {
     "data": {
      "text/plain": [
       "['摘要', '日期', '分类', '金额', '收支', '流水', '月份']"
      ]
     },
     "execution_count": 15,
     "metadata": {},
     "output_type": "execute_result"
    }
   ],
   "source": [
    "cols = list(cols)\n",
    "cols"
   ]
  },
  {
   "cell_type": "markdown",
   "metadata": {},
   "source": [
    "### 3.3.2 选取指定列/指定行的数据\n",
    "比如我要5到20行的，摘要数据\n",
    "\n",
    "格式是：`df.loc[行切片, 列名标签]`"
   ]
  },
  {
   "cell_type": "code",
   "execution_count": 16,
   "metadata": {},
   "outputs": [
    {
     "data": {
      "text/plain": [
       "5           午餐桂山禾\n",
       "6          次氯酸消毒液\n",
       "7           午餐农耕记\n",
       "8           晚餐沪佳兰\n",
       "9            飞车勋章\n",
       "10             地铁\n",
       "11       晚餐云南小锅米线\n",
       "12        晚餐鸭蛋瘦肉粥\n",
       "13          午餐肯德基\n",
       "14        自然光环试吃装\n",
       "15    小鸭中山医院买药+抽血\n",
       "16     小猫小鸭中山医院挂号\n",
       "17             地铁\n",
       "18            百果园\n",
       "19        午餐咸蛋瘦肉粥\n",
       "20          晚餐许府牛\n",
       "Name: 摘要, dtype: object"
      ]
     },
     "execution_count": 16,
     "metadata": {},
     "output_type": "execute_result"
    }
   ],
   "source": [
    "df.loc[5:20, '摘要']"
   ]
  },
  {
   "cell_type": "markdown",
   "metadata": {},
   "source": [
    "那如果要所有行的呢？只要用一个`:`作为\"行切片\"就可以了\n",
    "\n",
    "那如果要多列的呢？只要传递一个“列名组成的列表”就可以了"
   ]
  },
  {
   "cell_type": "code",
   "execution_count": 17,
   "metadata": {},
   "outputs": [
    {
     "data": {
      "text/html": [
       "<div>\n",
       "<style scoped>\n",
       "    .dataframe tbody tr th:only-of-type {\n",
       "        vertical-align: middle;\n",
       "    }\n",
       "\n",
       "    .dataframe tbody tr th {\n",
       "        vertical-align: top;\n",
       "    }\n",
       "\n",
       "    .dataframe thead th {\n",
       "        text-align: right;\n",
       "    }\n",
       "</style>\n",
       "<table border=\"1\" class=\"dataframe\">\n",
       "  <thead>\n",
       "    <tr style=\"text-align: right;\">\n",
       "      <th></th>\n",
       "      <th>摘要</th>\n",
       "      <th>日期</th>\n",
       "    </tr>\n",
       "  </thead>\n",
       "  <tbody>\n",
       "    <tr>\n",
       "      <th>10</th>\n",
       "      <td>地铁</td>\n",
       "      <td>2025/01/04</td>\n",
       "    </tr>\n",
       "    <tr>\n",
       "      <th>11</th>\n",
       "      <td>晚餐云南小锅米线</td>\n",
       "      <td>2025/01/04</td>\n",
       "    </tr>\n",
       "    <tr>\n",
       "      <th>12</th>\n",
       "      <td>晚餐鸭蛋瘦肉粥</td>\n",
       "      <td>2025/01/04</td>\n",
       "    </tr>\n",
       "    <tr>\n",
       "      <th>13</th>\n",
       "      <td>午餐肯德基</td>\n",
       "      <td>2025/01/04</td>\n",
       "    </tr>\n",
       "    <tr>\n",
       "      <th>14</th>\n",
       "      <td>自然光环试吃装</td>\n",
       "      <td>2025/01/04</td>\n",
       "    </tr>\n",
       "    <tr>\n",
       "      <th>15</th>\n",
       "      <td>小鸭中山医院买药+抽血</td>\n",
       "      <td>2025/01/04</td>\n",
       "    </tr>\n",
       "    <tr>\n",
       "      <th>16</th>\n",
       "      <td>小猫小鸭中山医院挂号</td>\n",
       "      <td>2025/01/04</td>\n",
       "    </tr>\n",
       "    <tr>\n",
       "      <th>17</th>\n",
       "      <td>地铁</td>\n",
       "      <td>2025/01/04</td>\n",
       "    </tr>\n",
       "    <tr>\n",
       "      <th>18</th>\n",
       "      <td>百果园</td>\n",
       "      <td>2025/01/04</td>\n",
       "    </tr>\n",
       "    <tr>\n",
       "      <th>19</th>\n",
       "      <td>午餐咸蛋瘦肉粥</td>\n",
       "      <td>2025/01/05</td>\n",
       "    </tr>\n",
       "    <tr>\n",
       "      <th>20</th>\n",
       "      <td>晚餐许府牛</td>\n",
       "      <td>2025/01/05</td>\n",
       "    </tr>\n",
       "  </tbody>\n",
       "</table>\n",
       "</div>"
      ],
      "text/plain": [
       "             摘要          日期\n",
       "10           地铁  2025/01/04\n",
       "11     晚餐云南小锅米线  2025/01/04\n",
       "12      晚餐鸭蛋瘦肉粥  2025/01/04\n",
       "13        午餐肯德基  2025/01/04\n",
       "14      自然光环试吃装  2025/01/04\n",
       "15  小鸭中山医院买药+抽血  2025/01/04\n",
       "16   小猫小鸭中山医院挂号  2025/01/04\n",
       "17           地铁  2025/01/04\n",
       "18          百果园  2025/01/04\n",
       "19      午餐咸蛋瘦肉粥  2025/01/05\n",
       "20        晚餐许府牛  2025/01/05"
      ]
     },
     "execution_count": 17,
     "metadata": {},
     "output_type": "execute_result"
    }
   ],
   "source": [
    "df.loc[10:20, ['摘要', '日期']]"
   ]
  },
  {
   "cell_type": "markdown",
   "metadata": {},
   "source": [
    "行如果想要自己选，也是传一个“行列表”就可以了"
   ]
  },
  {
   "cell_type": "code",
   "execution_count": 18,
   "metadata": {},
   "outputs": [
    {
     "data": {
      "text/html": [
       "<div>\n",
       "<style scoped>\n",
       "    .dataframe tbody tr th:only-of-type {\n",
       "        vertical-align: middle;\n",
       "    }\n",
       "\n",
       "    .dataframe tbody tr th {\n",
       "        vertical-align: top;\n",
       "    }\n",
       "\n",
       "    .dataframe thead th {\n",
       "        text-align: right;\n",
       "    }\n",
       "</style>\n",
       "<table border=\"1\" class=\"dataframe\">\n",
       "  <thead>\n",
       "    <tr style=\"text-align: right;\">\n",
       "      <th></th>\n",
       "      <th>摘要</th>\n",
       "      <th>金额</th>\n",
       "    </tr>\n",
       "  </thead>\n",
       "  <tbody>\n",
       "    <tr>\n",
       "      <th>50</th>\n",
       "      <td>晚餐kfc</td>\n",
       "      <td>45.50</td>\n",
       "    </tr>\n",
       "    <tr>\n",
       "      <th>7</th>\n",
       "      <td>午餐农耕记</td>\n",
       "      <td>19.91</td>\n",
       "    </tr>\n",
       "    <tr>\n",
       "      <th>89</th>\n",
       "      <td>百果园</td>\n",
       "      <td>17.41</td>\n",
       "    </tr>\n",
       "  </tbody>\n",
       "</table>\n",
       "</div>"
      ],
      "text/plain": [
       "       摘要     金额\n",
       "50  晚餐kfc  45.50\n",
       "7   午餐农耕记  19.91\n",
       "89    百果园  17.41"
      ]
     },
     "execution_count": 18,
     "metadata": {},
     "output_type": "execute_result"
    }
   ],
   "source": [
    "df.loc[[50, 7, 89], ['摘要', '金额']]"
   ]
  },
  {
   "cell_type": "markdown",
   "metadata": {},
   "source": [
    "### 3.3.3 直接用方括号访问列\n",
    "返回的是一个Series"
   ]
  },
  {
   "cell_type": "code",
   "execution_count": 19,
   "metadata": {},
   "outputs": [
    {
     "data": {
      "text/plain": [
       "0                       晚餐潮牛牛\n",
       "1                     午餐鲜烫牛肉粉\n",
       "2                       百果园充值\n",
       "3                        美团买菜\n",
       "4                       一次性棉球\n",
       "5                       午餐桂山禾\n",
       "6                      次氯酸消毒液\n",
       "7                       午餐农耕记\n",
       "8                       晚餐沪佳兰\n",
       "9                        飞车勋章\n",
       "10                         地铁\n",
       "11                   晚餐云南小锅米线\n",
       "12                    晚餐鸭蛋瘦肉粥\n",
       "13                      午餐肯德基\n",
       "14                    自然光环试吃装\n",
       "15                小鸭中山医院买药+抽血\n",
       "16                 小猫小鸭中山医院挂号\n",
       "17                         地铁\n",
       "18                        百果园\n",
       "19                    午餐咸蛋瘦肉粥\n",
       "20                      晚餐许府牛\n",
       "21                      午餐农耕记\n",
       "22                         地铁\n",
       "23                         地铁\n",
       "24                  猫咪饮水机-笼子用\n",
       "25                  猫咪喂食器-笼子用\n",
       "26                        磨药器\n",
       "27                        百果园\n",
       "28                      一次性尿垫\n",
       "29                       隔离笼子\n",
       "                ...          \n",
       "402                       汇满购\n",
       "403                 午餐桂山禾（小猫）\n",
       "404                 午餐桂山禾（小鸭）\n",
       "405                     午餐农耕记\n",
       "406                    江边城外退款\n",
       "407                 倍加洁蓝紫喵喵牙刷\n",
       "408                     晚餐小笼包\n",
       "409                mistine防晒霜\n",
       "410            蓝氏主食罐鸡肉乳鸽味170g\n",
       "411    爱立方鸡+丸味蛋黄鸡+朗诺小鲜肉冻干各10g\n",
       "412                   花宝弹力球1个\n",
       "413                     午餐桂山禾\n",
       "414                    晚餐呷哺呷哺\n",
       "415                  蝴蝶镜子退款差价\n",
       "416                      生理盐水\n",
       "417                    花宝宠物医保\n",
       "418                  米色蕾丝大肠发圈\n",
       "419                  午餐KFC全家桶\n",
       "420                   午餐子固路拌粉\n",
       "421                     午餐麦当劳\n",
       "422                   小猫去公司打车\n",
       "423                小猫聚餐结束回家打车\n",
       "424                   小猫聚餐地铁费\n",
       "425                       验孕棒\n",
       "426                      简历精修\n",
       "427                    杏色镂空开衫\n",
       "428                   晚餐杭州小笼包\n",
       "429                       百果园\n",
       "430                     午餐农耕记\n",
       "431                    白色蕾丝丝巾\n",
       "Name: 摘要, Length: 432, dtype: object"
      ]
     },
     "execution_count": 19,
     "metadata": {},
     "output_type": "execute_result"
    }
   ],
   "source": [
    "df['摘要']"
   ]
  },
  {
   "cell_type": "markdown",
   "metadata": {},
   "source": [
    "## 3.4 条件选择（选择满足指定条件的条目）\n",
    "我们先试一下如果给df的列加条件得到的是一个什么东西\n",
    "\n",
    "得到的还是一个`pandas.core.series.Series`，但是里面的值表示每一行是否满足条件，满足就是`True`，否则就是`False`\n",
    "\n",
    "### 3.4.1 使用方括号（或者`.loc`查询）\n",
    "那么我拿着这个Series再次扔给df，就从df里筛选出了所有满足条件的行\n",
    "\n",
    "如果有多个条件，用括号括住每一个条件，然后用`&`符号拼起来"
   ]
  },
  {
   "cell_type": "code",
   "execution_count": 20,
   "metadata": {
    "scrolled": true
   },
   "outputs": [
    {
     "data": {
      "text/html": [
       "<div>\n",
       "<style scoped>\n",
       "    .dataframe tbody tr th:only-of-type {\n",
       "        vertical-align: middle;\n",
       "    }\n",
       "\n",
       "    .dataframe tbody tr th {\n",
       "        vertical-align: top;\n",
       "    }\n",
       "\n",
       "    .dataframe thead th {\n",
       "        text-align: right;\n",
       "    }\n",
       "</style>\n",
       "<table border=\"1\" class=\"dataframe\">\n",
       "  <thead>\n",
       "    <tr style=\"text-align: right;\">\n",
       "      <th></th>\n",
       "      <th>摘要</th>\n",
       "      <th>日期</th>\n",
       "      <th>分类</th>\n",
       "      <th>金额</th>\n",
       "      <th>收支</th>\n",
       "      <th>流水</th>\n",
       "      <th>月份</th>\n",
       "    </tr>\n",
       "  </thead>\n",
       "  <tbody>\n",
       "    <tr>\n",
       "      <th>2</th>\n",
       "      <td>百果园充值</td>\n",
       "      <td>2025/01/01</td>\n",
       "      <td>水果</td>\n",
       "      <td>94.0</td>\n",
       "      <td>支出</td>\n",
       "      <td>-¥94.00</td>\n",
       "      <td>1 月</td>\n",
       "    </tr>\n",
       "    <tr>\n",
       "      <th>18</th>\n",
       "      <td>百果园</td>\n",
       "      <td>2025/01/04</td>\n",
       "      <td>水果</td>\n",
       "      <td>61.3</td>\n",
       "      <td>支出</td>\n",
       "      <td>-¥61.30</td>\n",
       "      <td>1 月</td>\n",
       "    </tr>\n",
       "    <tr>\n",
       "      <th>76</th>\n",
       "      <td>百果园</td>\n",
       "      <td>2025/01/12</td>\n",
       "      <td>水果</td>\n",
       "      <td>58.2</td>\n",
       "      <td>支出</td>\n",
       "      <td>-¥58.20</td>\n",
       "      <td>1 月</td>\n",
       "    </tr>\n",
       "    <tr>\n",
       "      <th>92</th>\n",
       "      <td>百果园</td>\n",
       "      <td>2025/01/14</td>\n",
       "      <td>水果</td>\n",
       "      <td>52.2</td>\n",
       "      <td>支出</td>\n",
       "      <td>-¥52.20</td>\n",
       "      <td>1 月</td>\n",
       "    </tr>\n",
       "    <tr>\n",
       "      <th>189</th>\n",
       "      <td>百果园充值</td>\n",
       "      <td>2025/02/04</td>\n",
       "      <td>水果</td>\n",
       "      <td>188.0</td>\n",
       "      <td>支出</td>\n",
       "      <td>-¥188.00</td>\n",
       "      <td>2 月</td>\n",
       "    </tr>\n",
       "  </tbody>\n",
       "</table>\n",
       "</div>"
      ],
      "text/plain": [
       "        摘要          日期  分类     金额  收支        流水   月份\n",
       "2    百果园充值  2025/01/01  水果   94.0  支出   -¥94.00  1 月\n",
       "18     百果园  2025/01/04  水果   61.3  支出   -¥61.30  1 月\n",
       "76     百果园  2025/01/12  水果   58.2  支出   -¥58.20  1 月\n",
       "92     百果园  2025/01/14  水果   52.2  支出   -¥52.20  1 月\n",
       "189  百果园充值  2025/02/04  水果  188.0  支出  -¥188.00  2 月"
      ]
     },
     "execution_count": 20,
     "metadata": {},
     "output_type": "execute_result"
    }
   ],
   "source": [
    "df[(df['金额'] > 50) & (df['分类'] == '水果')]"
   ]
  },
  {
   "cell_type": "markdown",
   "metadata": {},
   "source": [
    "### 3.4.2 使用query方法"
   ]
  },
  {
   "cell_type": "code",
   "execution_count": 21,
   "metadata": {},
   "outputs": [
    {
     "data": {
      "text/html": [
       "<div>\n",
       "<style scoped>\n",
       "    .dataframe tbody tr th:only-of-type {\n",
       "        vertical-align: middle;\n",
       "    }\n",
       "\n",
       "    .dataframe tbody tr th {\n",
       "        vertical-align: top;\n",
       "    }\n",
       "\n",
       "    .dataframe thead th {\n",
       "        text-align: right;\n",
       "    }\n",
       "</style>\n",
       "<table border=\"1\" class=\"dataframe\">\n",
       "  <thead>\n",
       "    <tr style=\"text-align: right;\">\n",
       "      <th></th>\n",
       "      <th>摘要</th>\n",
       "      <th>日期</th>\n",
       "      <th>分类</th>\n",
       "      <th>金额</th>\n",
       "      <th>收支</th>\n",
       "      <th>流水</th>\n",
       "      <th>月份</th>\n",
       "    </tr>\n",
       "  </thead>\n",
       "  <tbody>\n",
       "    <tr>\n",
       "      <th>2</th>\n",
       "      <td>百果园充值</td>\n",
       "      <td>2025/01/01</td>\n",
       "      <td>水果</td>\n",
       "      <td>94.0</td>\n",
       "      <td>支出</td>\n",
       "      <td>-¥94.00</td>\n",
       "      <td>1 月</td>\n",
       "    </tr>\n",
       "    <tr>\n",
       "      <th>18</th>\n",
       "      <td>百果园</td>\n",
       "      <td>2025/01/04</td>\n",
       "      <td>水果</td>\n",
       "      <td>61.3</td>\n",
       "      <td>支出</td>\n",
       "      <td>-¥61.30</td>\n",
       "      <td>1 月</td>\n",
       "    </tr>\n",
       "    <tr>\n",
       "      <th>76</th>\n",
       "      <td>百果园</td>\n",
       "      <td>2025/01/12</td>\n",
       "      <td>水果</td>\n",
       "      <td>58.2</td>\n",
       "      <td>支出</td>\n",
       "      <td>-¥58.20</td>\n",
       "      <td>1 月</td>\n",
       "    </tr>\n",
       "    <tr>\n",
       "      <th>92</th>\n",
       "      <td>百果园</td>\n",
       "      <td>2025/01/14</td>\n",
       "      <td>水果</td>\n",
       "      <td>52.2</td>\n",
       "      <td>支出</td>\n",
       "      <td>-¥52.20</td>\n",
       "      <td>1 月</td>\n",
       "    </tr>\n",
       "    <tr>\n",
       "      <th>189</th>\n",
       "      <td>百果园充值</td>\n",
       "      <td>2025/02/04</td>\n",
       "      <td>水果</td>\n",
       "      <td>188.0</td>\n",
       "      <td>支出</td>\n",
       "      <td>-¥188.00</td>\n",
       "      <td>2 月</td>\n",
       "    </tr>\n",
       "  </tbody>\n",
       "</table>\n",
       "</div>"
      ],
      "text/plain": [
       "        摘要          日期  分类     金额  收支        流水   月份\n",
       "2    百果园充值  2025/01/01  水果   94.0  支出   -¥94.00  1 月\n",
       "18     百果园  2025/01/04  水果   61.3  支出   -¥61.30  1 月\n",
       "76     百果园  2025/01/12  水果   58.2  支出   -¥58.20  1 月\n",
       "92     百果园  2025/01/14  水果   52.2  支出   -¥52.20  1 月\n",
       "189  百果园充值  2025/02/04  水果  188.0  支出  -¥188.00  2 月"
      ]
     },
     "execution_count": 21,
     "metadata": {},
     "output_type": "execute_result"
    }
   ],
   "source": [
    "df.query('金额 > 50 and 分类 == \"水果\"')"
   ]
  },
  {
   "cell_type": "markdown",
   "metadata": {},
   "source": [
    "### 3.4.3 使用isin方法\n",
    "筛选某列中包含多个值的行，比如我想要分类是水果、饮食、日用的所有行\n",
    "\n",
    "如果用`分类 == 水果 & ... `这种写法太长了，用isin就比较短\n",
    "\n",
    "isin传的是一个取值构成的列表，也即`['水果','饮食','日用']`"
   ]
  },
  {
   "cell_type": "code",
   "execution_count": 23,
   "metadata": {},
   "outputs": [
    {
     "data": {
      "text/html": [
       "<div>\n",
       "<style scoped>\n",
       "    .dataframe tbody tr th:only-of-type {\n",
       "        vertical-align: middle;\n",
       "    }\n",
       "\n",
       "    .dataframe tbody tr th {\n",
       "        vertical-align: top;\n",
       "    }\n",
       "\n",
       "    .dataframe thead th {\n",
       "        text-align: right;\n",
       "    }\n",
       "</style>\n",
       "<table border=\"1\" class=\"dataframe\">\n",
       "  <thead>\n",
       "    <tr style=\"text-align: right;\">\n",
       "      <th></th>\n",
       "      <th>摘要</th>\n",
       "      <th>日期</th>\n",
       "      <th>分类</th>\n",
       "      <th>金额</th>\n",
       "      <th>收支</th>\n",
       "      <th>流水</th>\n",
       "      <th>月份</th>\n",
       "    </tr>\n",
       "  </thead>\n",
       "  <tbody>\n",
       "    <tr>\n",
       "      <th>0</th>\n",
       "      <td>晚餐潮牛牛</td>\n",
       "      <td>2025/01/01</td>\n",
       "      <td>饮食</td>\n",
       "      <td>182.00</td>\n",
       "      <td>支出</td>\n",
       "      <td>-¥182.00</td>\n",
       "      <td>1 月</td>\n",
       "    </tr>\n",
       "    <tr>\n",
       "      <th>1</th>\n",
       "      <td>午餐鲜烫牛肉粉</td>\n",
       "      <td>2025/01/01</td>\n",
       "      <td>饮食</td>\n",
       "      <td>34.90</td>\n",
       "      <td>支出</td>\n",
       "      <td>-¥34.90</td>\n",
       "      <td>1 月</td>\n",
       "    </tr>\n",
       "    <tr>\n",
       "      <th>2</th>\n",
       "      <td>百果园充值</td>\n",
       "      <td>2025/01/01</td>\n",
       "      <td>水果</td>\n",
       "      <td>94.00</td>\n",
       "      <td>支出</td>\n",
       "      <td>-¥94.00</td>\n",
       "      <td>1 月</td>\n",
       "    </tr>\n",
       "    <tr>\n",
       "      <th>3</th>\n",
       "      <td>美团买菜</td>\n",
       "      <td>2025/01/02</td>\n",
       "      <td>饮食</td>\n",
       "      <td>42.88</td>\n",
       "      <td>支出</td>\n",
       "      <td>-¥42.88</td>\n",
       "      <td>1 月</td>\n",
       "    </tr>\n",
       "    <tr>\n",
       "      <th>5</th>\n",
       "      <td>午餐桂山禾</td>\n",
       "      <td>2025/01/02</td>\n",
       "      <td>饮食</td>\n",
       "      <td>19.80</td>\n",
       "      <td>支出</td>\n",
       "      <td>-¥19.80</td>\n",
       "      <td>1 月</td>\n",
       "    </tr>\n",
       "  </tbody>\n",
       "</table>\n",
       "</div>"
      ],
      "text/plain": [
       "        摘要          日期  分类      金额  收支        流水   月份\n",
       "0    晚餐潮牛牛  2025/01/01  饮食  182.00  支出  -¥182.00  1 月\n",
       "1  午餐鲜烫牛肉粉  2025/01/01  饮食   34.90  支出   -¥34.90  1 月\n",
       "2    百果园充值  2025/01/01  水果   94.00  支出   -¥94.00  1 月\n",
       "3     美团买菜  2025/01/02  饮食   42.88  支出   -¥42.88  1 月\n",
       "5    午餐桂山禾  2025/01/02  饮食   19.80  支出   -¥19.80  1 月"
      ]
     },
     "execution_count": 23,
     "metadata": {},
     "output_type": "execute_result"
    }
   ],
   "source": [
    "df[df['分类'].isin(['水果','饮食','日用'])].head()"
   ]
  },
  {
   "cell_type": "markdown",
   "metadata": {},
   "source": [
    "### 3.4.4 同时筛选行和列\n",
    "把前面学的内容组织起来一起使用，用`loc`是可以同时筛选行和列的，当时学的是：`df.loc[行切片, 列名标签]`\n",
    "\n",
    "但是行切片可以用这次学的判断条件来代替，也即`df.loc[筛选行的条件, 列名标签]`"
   ]
  },
  {
   "cell_type": "code",
   "execution_count": 28,
   "metadata": {},
   "outputs": [
    {
     "data": {
      "text/html": [
       "<div>\n",
       "<style scoped>\n",
       "    .dataframe tbody tr th:only-of-type {\n",
       "        vertical-align: middle;\n",
       "    }\n",
       "\n",
       "    .dataframe tbody tr th {\n",
       "        vertical-align: top;\n",
       "    }\n",
       "\n",
       "    .dataframe thead th {\n",
       "        text-align: right;\n",
       "    }\n",
       "</style>\n",
       "<table border=\"1\" class=\"dataframe\">\n",
       "  <thead>\n",
       "    <tr style=\"text-align: right;\">\n",
       "      <th></th>\n",
       "      <th>摘要</th>\n",
       "      <th>分类</th>\n",
       "      <th>流水</th>\n",
       "    </tr>\n",
       "  </thead>\n",
       "  <tbody>\n",
       "    <tr>\n",
       "      <th>2</th>\n",
       "      <td>百果园充值</td>\n",
       "      <td>水果</td>\n",
       "      <td>-¥94.00</td>\n",
       "    </tr>\n",
       "    <tr>\n",
       "      <th>18</th>\n",
       "      <td>百果园</td>\n",
       "      <td>水果</td>\n",
       "      <td>-¥61.30</td>\n",
       "    </tr>\n",
       "    <tr>\n",
       "      <th>76</th>\n",
       "      <td>百果园</td>\n",
       "      <td>水果</td>\n",
       "      <td>-¥58.20</td>\n",
       "    </tr>\n",
       "    <tr>\n",
       "      <th>92</th>\n",
       "      <td>百果园</td>\n",
       "      <td>水果</td>\n",
       "      <td>-¥52.20</td>\n",
       "    </tr>\n",
       "    <tr>\n",
       "      <th>189</th>\n",
       "      <td>百果园充值</td>\n",
       "      <td>水果</td>\n",
       "      <td>-¥188.00</td>\n",
       "    </tr>\n",
       "  </tbody>\n",
       "</table>\n",
       "</div>"
      ],
      "text/plain": [
       "        摘要  分类        流水\n",
       "2    百果园充值  水果   -¥94.00\n",
       "18     百果园  水果   -¥61.30\n",
       "76     百果园  水果   -¥58.20\n",
       "92     百果园  水果   -¥52.20\n",
       "189  百果园充值  水果  -¥188.00"
      ]
     },
     "execution_count": 28,
     "metadata": {},
     "output_type": "execute_result"
    }
   ],
   "source": [
    "df.loc[(df['金额'] > 50) & (df['分类'] == '水果'), ['摘要','分类','流水']]"
   ]
  },
  {
   "cell_type": "markdown",
   "metadata": {},
   "source": [
    "# 4 总结\n",
    "会了啥？\n",
    "1. 会读取csv文件\n",
    "2. 会查看读出来的DataFrame\n",
    "3. 会查询任意的行和列，从大表格得到任意的满足条件的小的表格"
   ]
  },
  {
   "cell_type": "code",
   "execution_count": null,
   "metadata": {},
   "outputs": [],
   "source": []
  }
 ],
 "metadata": {
  "kernelspec": {
   "display_name": "Python 3",
   "language": "python",
   "name": "python3"
  },
  "language_info": {
   "codemirror_mode": {
    "name": "ipython",
    "version": 3
   },
   "file_extension": ".py",
   "mimetype": "text/x-python",
   "name": "python",
   "nbconvert_exporter": "python",
   "pygments_lexer": "ipython3",
   "version": "3.7.0"
  }
 },
 "nbformat": 4,
 "nbformat_minor": 2
}
