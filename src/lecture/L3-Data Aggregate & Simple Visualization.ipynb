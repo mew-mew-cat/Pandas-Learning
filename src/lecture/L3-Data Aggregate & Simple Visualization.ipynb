{
 "cells": [
  {
   "cell_type": "code",
   "execution_count": 1,
   "metadata": {},
   "outputs": [],
   "source": [
    "import pandas as pd\n",
    "df = pd.read_csv('..\\\\..\\\\data\\\\猫鸭账单_2025年.csv', engine='python', encoding='utf-8-sig')"
   ]
  },
  {
   "cell_type": "code",
   "execution_count": 2,
   "metadata": {
    "scrolled": true
   },
   "outputs": [
    {
     "name": "stdout",
     "output_type": "stream",
     "text": [
      "<class 'pandas.core.frame.DataFrame'>\n",
      "RangeIndex: 432 entries, 0 to 431\n",
      "Data columns (total 7 columns):\n",
      "摘要    432 non-null object\n",
      "日期    432 non-null object\n",
      "分类    432 non-null object\n",
      "金额    432 non-null float64\n",
      "收支    432 non-null object\n",
      "流水    432 non-null object\n",
      "月份    432 non-null object\n",
      "dtypes: float64(1), object(6)\n",
      "memory usage: 23.7+ KB\n"
     ]
    }
   ],
   "source": [
    "df.info()"
   ]
  },
  {
   "cell_type": "markdown",
   "metadata": {},
   "source": [
    "# 1 分析消费类别占比\n",
    "1. 过滤掉收入和预算——也就是只保留支出数据\n",
    "2. 将数据按类别进行聚合\n",
    "3. 将聚合后的数据，可视化展示，按从大到小/从小到大的顺序"
   ]
  },
  {
   "cell_type": "code",
   "execution_count": 3,
   "metadata": {},
   "outputs": [
    {
     "data": {
      "text/html": [
       "<div>\n",
       "<style scoped>\n",
       "    .dataframe tbody tr th:only-of-type {\n",
       "        vertical-align: middle;\n",
       "    }\n",
       "\n",
       "    .dataframe tbody tr th {\n",
       "        vertical-align: top;\n",
       "    }\n",
       "\n",
       "    .dataframe thead th {\n",
       "        text-align: right;\n",
       "    }\n",
       "</style>\n",
       "<table border=\"1\" class=\"dataframe\">\n",
       "  <thead>\n",
       "    <tr style=\"text-align: right;\">\n",
       "      <th></th>\n",
       "      <th>摘要</th>\n",
       "      <th>日期</th>\n",
       "      <th>分类</th>\n",
       "      <th>金额</th>\n",
       "      <th>收支</th>\n",
       "      <th>流水</th>\n",
       "      <th>月份</th>\n",
       "    </tr>\n",
       "  </thead>\n",
       "  <tbody>\n",
       "    <tr>\n",
       "      <th>0</th>\n",
       "      <td>晚餐潮牛牛</td>\n",
       "      <td>2025/01/01</td>\n",
       "      <td>饮食</td>\n",
       "      <td>182.00</td>\n",
       "      <td>支出</td>\n",
       "      <td>-¥182.00</td>\n",
       "      <td>1 月</td>\n",
       "    </tr>\n",
       "    <tr>\n",
       "      <th>1</th>\n",
       "      <td>午餐鲜烫牛肉粉</td>\n",
       "      <td>2025/01/01</td>\n",
       "      <td>饮食</td>\n",
       "      <td>34.90</td>\n",
       "      <td>支出</td>\n",
       "      <td>-¥34.90</td>\n",
       "      <td>1 月</td>\n",
       "    </tr>\n",
       "    <tr>\n",
       "      <th>2</th>\n",
       "      <td>百果园充值</td>\n",
       "      <td>2025/01/01</td>\n",
       "      <td>水果</td>\n",
       "      <td>94.00</td>\n",
       "      <td>支出</td>\n",
       "      <td>-¥94.00</td>\n",
       "      <td>1 月</td>\n",
       "    </tr>\n",
       "    <tr>\n",
       "      <th>3</th>\n",
       "      <td>美团买菜</td>\n",
       "      <td>2025/01/02</td>\n",
       "      <td>饮食</td>\n",
       "      <td>42.88</td>\n",
       "      <td>支出</td>\n",
       "      <td>-¥42.88</td>\n",
       "      <td>1 月</td>\n",
       "    </tr>\n",
       "    <tr>\n",
       "      <th>4</th>\n",
       "      <td>一次性棉球</td>\n",
       "      <td>2025/01/01</td>\n",
       "      <td>宠物</td>\n",
       "      <td>0.60</td>\n",
       "      <td>支出</td>\n",
       "      <td>-¥0.60</td>\n",
       "      <td>1 月</td>\n",
       "    </tr>\n",
       "  </tbody>\n",
       "</table>\n",
       "</div>"
      ],
      "text/plain": [
       "        摘要          日期  分类      金额  收支        流水   月份\n",
       "0    晚餐潮牛牛  2025/01/01  饮食  182.00  支出  -¥182.00  1 月\n",
       "1  午餐鲜烫牛肉粉  2025/01/01  饮食   34.90  支出   -¥34.90  1 月\n",
       "2    百果园充值  2025/01/01  水果   94.00  支出   -¥94.00  1 月\n",
       "3     美团买菜  2025/01/02  饮食   42.88  支出   -¥42.88  1 月\n",
       "4    一次性棉球  2025/01/01  宠物    0.60  支出    -¥0.60  1 月"
      ]
     },
     "execution_count": 3,
     "metadata": {},
     "output_type": "execute_result"
    }
   ],
   "source": [
    "expense_df = df[df['收支'] == '支出']\n",
    "expense_df.head()"
   ]
  },
  {
   "cell_type": "markdown",
   "metadata": {},
   "source": [
    "## 1.1 数据聚合\n",
    "使用`DataFrame`的`groupby`对数据按照指定的“列”进行聚合"
   ]
  },
  {
   "cell_type": "code",
   "execution_count": 4,
   "metadata": {},
   "outputs": [
    {
     "data": {
      "text/plain": [
       "pandas.core.groupby.groupby.DataFrameGroupBy"
      ]
     },
     "execution_count": 4,
     "metadata": {},
     "output_type": "execute_result"
    }
   ],
   "source": [
    "gb = expense_df.groupby('分类')\n",
    "type(gb)"
   ]
  },
  {
   "cell_type": "markdown",
   "metadata": {},
   "source": [
    "## 1.2 查看`DataFrameGroupBy`对象\n",
    "当你对`DataFrameGroupBy`对象迭代（用`for-in`去访问它）的时候，每次迭代的第一项是group的名称，第二项是这个group对应的子`DataFrame`"
   ]
  },
  {
   "cell_type": "code",
   "execution_count": 5,
   "metadata": {
    "scrolled": true
   },
   "outputs": [
    {
     "name": "stdout",
     "output_type": "stream",
     "text": [
      "group name: 交通\n",
      "group name: 其他\n",
      "group name: 医疗\n",
      "group name: 娱乐\n",
      "group name: 宠物\n",
      "group name: 家里\n",
      "group name: 日用\n",
      "group name: 服饰\n",
      "group name: 水果\n",
      "group name: 电子器件\n",
      "group name: 租房\n",
      "group name: 话费\n",
      "group name: 零食\n",
      "group name: 饮食\n"
     ]
    }
   ],
   "source": [
    "for name, group in gb:\n",
    "    print(f\"group name: {name}\")\n",
    "    #print(group.head())"
   ]
  },
  {
   "cell_type": "markdown",
   "metadata": {},
   "source": [
    "## 1.3 提取金额信息，得到`SeriesGroupBy`对象"
   ]
  },
  {
   "cell_type": "code",
   "execution_count": 6,
   "metadata": {},
   "outputs": [
    {
     "data": {
      "text/plain": [
       "pandas.core.groupby.groupby.SeriesGroupBy"
      ]
     },
     "execution_count": 6,
     "metadata": {},
     "output_type": "execute_result"
    }
   ],
   "source": [
    "gb_money = gb['金额']\n",
    "type(gb_money)"
   ]
  },
  {
   "cell_type": "markdown",
   "metadata": {},
   "source": [
    "## 1.4 对`SeriesGroupBy`取`sum()`，得到每个分类的总金额"
   ]
  },
  {
   "cell_type": "code",
   "execution_count": 7,
   "metadata": {},
   "outputs": [
    {
     "data": {
      "text/plain": [
       "分类\n",
       "交通        373.15\n",
       "其他        132.98\n",
       "医疗        661.96\n",
       "娱乐       1309.90\n",
       "宠物      31391.67\n",
       "家里       4000.00\n",
       "日用        629.31\n",
       "服饰       1401.21\n",
       "水果       1036.29\n",
       "电子器件     1178.76\n",
       "租房       5794.00\n",
       "话费        313.73\n",
       "零食        261.00\n",
       "饮食       6592.08\n",
       "Name: 金额, dtype: float64"
      ]
     },
     "execution_count": 7,
     "metadata": {},
     "output_type": "execute_result"
    }
   ],
   "source": [
    "money_series = gb_money.sum()\n",
    "money_series"
   ]
  },
  {
   "cell_type": "markdown",
   "metadata": {},
   "source": [
    "## 1.5 对分类总金额排序，使用`Series`的`sort_values`方法，可以指定`ascending`决定升/降序"
   ]
  },
  {
   "cell_type": "code",
   "execution_count": 8,
   "metadata": {},
   "outputs": [
    {
     "data": {
      "text/plain": [
       "分类\n",
       "宠物      31391.67\n",
       "饮食       6592.08\n",
       "租房       5794.00\n",
       "家里       4000.00\n",
       "服饰       1401.21\n",
       "娱乐       1309.90\n",
       "电子器件     1178.76\n",
       "水果       1036.29\n",
       "医疗        661.96\n",
       "日用        629.31\n",
       "交通        373.15\n",
       "话费        313.73\n",
       "零食        261.00\n",
       "其他        132.98\n",
       "Name: 金额, dtype: float64"
      ]
     },
     "execution_count": 8,
     "metadata": {},
     "output_type": "execute_result"
    }
   ],
   "source": [
    "sorted_money_series = money_series.sort_values(ascending=False)\n",
    "sorted_money_series"
   ]
  },
  {
   "cell_type": "markdown",
   "metadata": {},
   "source": [
    "## 1.6 对整理好的数据可视化展示\n",
    "在Python里最常用的可视化库就是`matplotlib`的库，以及它的`pyplot`子库"
   ]
  },
  {
   "cell_type": "code",
   "execution_count": 22,
   "metadata": {},
   "outputs": [],
   "source": [
    "# 导入matplotlib库\n",
    "import matplotlib as mpl\n",
    "# 导入它的pyplot子库：两种写法\n",
    "# import matplotlib.pyplot as plt\n",
    "from matplotlib import pyplot as plt"
   ]
  },
  {
   "cell_type": "code",
   "execution_count": 10,
   "metadata": {},
   "outputs": [],
   "source": [
    "# 设置中文显示（不用记）\n",
    "mpl.rcParams['font.sans-serif'] = ['SimHei']\n",
    "mpl.rcParams['axes.unicode_minus'] = False"
   ]
  },
  {
   "cell_type": "markdown",
   "metadata": {},
   "source": [
    "### 1.6.1 使用`plt.pie`来绘制饼图，使用前面的数据"
   ]
  },
  {
   "cell_type": "code",
   "execution_count": 12,
   "metadata": {},
   "outputs": [
    {
     "data": {
      "text/plain": [
       "['宠物',\n",
       " '饮食',\n",
       " '租房',\n",
       " '家里',\n",
       " '服饰',\n",
       " '娱乐',\n",
       " '电子器件',\n",
       " '水果',\n",
       " '医疗',\n",
       " '日用',\n",
       " '交通',\n",
       " '话费',\n",
       " '零食',\n",
       " '其他']"
      ]
     },
     "execution_count": 12,
     "metadata": {},
     "output_type": "execute_result"
    }
   ],
   "source": [
    "list(sorted_money_series.index)"
   ]
  },
  {
   "cell_type": "code",
   "execution_count": 31,
   "metadata": {},
   "outputs": [
    {
     "data": {
      "image/png": "[encoded data removed]",
      "text/plain": [
       "<Figure size 432x288 with 1 Axes>"
      ]
     },
     "metadata": {},
     "output_type": "display_data"
    }
   ],
   "source": [
    "# 扇区对象列表，标签文本对象列表，百分比文本对象列表\n",
    "patches, texts, autotexts = plt.pie(sorted_money_series, labels=sorted_money_series.index, autopct='%1.2f%%')\n",
    "plt.title('消费占比分析')\n",
    "plt.show()"
   ]
  },
  {
   "cell_type": "code",
   "execution_count": null,
   "metadata": {},
   "outputs": [],
   "source": []
  }
 ],
 "metadata": {
  "kernelspec": {
   "display_name": "Python 3",
   "language": "python",
   "name": "python3"
  },
  "language_info": {
   "codemirror_mode": {
    "name": "ipython",
    "version": 3
   },
   "file_extension": ".py",
   "mimetype": "text/x-python",
   "name": "python",
   "nbconvert_exporter": "python",
   "pygments_lexer": "ipython3",
   "version": "3.7.0"
  }
 },
 "nbformat": 4,
 "nbformat_minor": 2
}
