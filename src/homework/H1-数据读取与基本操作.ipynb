{
 "cells": [
  {
   "cell_type": "markdown",
   "metadata": {},
   "source": [
    "# 作业1: 数据读取与基本操作\n",
    "\n",
    "本次作业将练习CSV文件的读取和基本的数据操作。通过这些练习，你将掌握如何导入数据、查看数据结构、以及执行简单的数据筛选和排序操作。"
   ]
  },
  {
   "cell_type": "markdown",
   "metadata": {},
   "source": [
    "## 1. 导入必要的库\n",
    "\n",
    "首先，我们需要导入pandas库，它是Python中用于数据分析的重要工具。"
   ]
  },
  {
   "cell_type": "code",
   "execution_count": null,
   "metadata": {},
   "outputs": [],
   "source": [
    "# 导入pandas库\n",
    "# 在此处完成代码\n"
   ]
  },
  {
   "cell_type": "markdown",
   "metadata": {},
   "source": [
    "## 2. 读取CSV文件\n",
    "\n",
    "现在，我们将读取一个CSV文件，该文件包含猫鸭的账单数据。文件位置为：`data\\猫鸭账单_2025年.csv`"
   ]
  },
  {
   "cell_type": "code",
   "execution_count": null,
   "metadata": {},
   "outputs": [],
   "source": [
    "# 使用pandas的read_csv函数读取CSV文件\n",
    "# 在此处完成代码\n"
   ]
  },
  {
   "cell_type": "markdown",
   "metadata": {},
   "source": [
    "## 3. 查看数据结构\n",
    "\n",
    "接下来，我们将使用多种方法来查看数据的结构和基本信息。"
   ]
  },
  {
   "cell_type": "code",
   "execution_count": null,
   "metadata": {},
   "outputs": [],
   "source": [
    "# 使用head()方法查看前几行数据\n",
    "# 在此处完成代码\n"
   ]
  },
  {
   "cell_type": "code",
   "execution_count": null,
   "metadata": {},
   "outputs": [],
   "source": [
    "# 使用tail()方法查看后几行数据\n",
    "# 在此处完成代码\n"
   ]
  },
  {
   "cell_type": "code",
   "execution_count": null,
   "metadata": {},
   "outputs": [],
   "source": [
    "# 使用info()方法查看数据的基本信息，包括每列的数据类型和非空值数量\n",
    "# 在此处完成代码\n"
   ]
  },
  {
   "cell_type": "code",
   "execution_count": null,
   "metadata": {},
   "outputs": [],
   "source": [
    "# 使用describe()方法查看数值列的统计摘要\n",
    "# 在此处完成代码\n"
   ]
  },
  {
   "cell_type": "code",
   "execution_count": null,
   "metadata": {},
   "outputs": [],
   "source": [
    "# 使用shape属性查看数据的形状（行数和列数）\n",
    "# 在此处完成代码\n"
   ]
  },
  {
   "cell_type": "code",
   "execution_count": null,
   "metadata": {},
   "outputs": [],
   "source": [
    "# 使用columns属性查看所有列名\n",
    "# 在此处完成代码\n"
   ]
  },
  {
   "cell_type": "markdown",
   "metadata": {},
   "source": [
    "## 4. 查看特定列的数据\n",
    "\n",
    "现在，我们将学习如何查看特定列的数据。"
   ]
  },
  {
   "cell_type": "code",
   "execution_count": null,
   "metadata": {},
   "outputs": [],
   "source": [
    "# 使用方括号查看\"摘要\"列的数据\n",
    "# 在此处完成代码\n"
   ]
  },
  {
   "cell_type": "code",
   "execution_count": null,
   "metadata": {},
   "outputs": [],
   "source": [
    "# 使用列表同时查看多个列，如\"摘要\"和\"金额\"\n",
    "# 在此处完成代码\n"
   ]
  },
  {
   "cell_type": "markdown",
   "metadata": {},
   "source": [
    "## 5. 数据筛选\n",
    "\n",
    "接下来，我们将学习如何使用条件来筛选数据。"
   ]
  },
  {
   "cell_type": "code",
   "execution_count": null,
   "metadata": {},
   "outputs": [],
   "source": [
    "# 筛选出所有收入的记录（\"收支\"列为\"收入\"的行）\n",
    "# 在此处完成代码\n"
   ]
  },
  {
   "cell_type": "code",
   "execution_count": null,
   "metadata": {},
   "outputs": [],
   "source": [
    "# 筛选出所有支出的记录（\"收支\"列为\"支出\"的行）\n",
    "# 在此处完成代码\n"
   ]
  },
  {
   "cell_type": "code",
   "execution_count": null,
   "metadata": {},
   "outputs": [],
   "source": [
    "# 筛选出所有\"分类\"为\"餐饮\"的记录\n",
    "# 在此处完成代码\n"
   ]
  },
  {
   "cell_type": "code",
   "execution_count": null,
   "metadata": {},
   "outputs": [],
   "source": [
    "# 筛选出所有\"分类\"为\"餐饮\"且\"收支\"为\"支出\"的记录\n",
    "# 在此处完成代码\n"
   ]
  },
  {
   "cell_type": "code",
   "execution_count": null,
   "metadata": {},
   "outputs": [],
   "source": [
    "# 筛选出所有\"月份\"为1月或2月的记录\n",
    "# 在此处完成代码\n"
   ]
  },
  {
   "cell_type": "markdown",
   "metadata": {},
   "source": [
    "## 6. 数据排序\n",
    "\n",
    "接下来，我们将学习如何对数据进行排序。"
   ]
  },
  {
   "cell_type": "code",
   "execution_count": null,
   "metadata": {},
   "outputs": [],
   "source": [
    "# 按\"日期\"列对数据进行升序排序\n",
    "# 在此处完成代码\n"
   ]
  },
  {
   "cell_type": "code",
   "execution_count": null,
   "metadata": {},
   "outputs": [],
   "source": [
    "# 按\"金额\"列对数据进行降序排序\n",
    "# 在此处完成代码\n"
   ]
  },
  {
   "cell_type": "code",
   "execution_count": null,
   "metadata": {},
   "outputs": [],
   "source": [
    "# 先按\"分类\"升序排序，再按\"金额\"降序排序\n",
    "# 在此处完成代码\n"
   ]
  },
  {
   "cell_type": "markdown",
   "metadata": {},
   "source": [
    "## 7. 查找最大和最小值\n",
    "\n",
    "最后，我们将学习如何查找最大和最小值。"
   ]
  },
  {
   "cell_type": "code",
   "execution_count": null,
   "metadata": {},
   "outputs": [],
   "source": [
    "# 查找\"金额\"列的最大值\n",
    "# 在此处完成代码\n"
   ]
  },
  {
   "cell_type": "code",
   "execution_count": null,
   "metadata": {},
   "outputs": [],
   "source": [
    "# 查找\"金额\"列的最小值\n",
    "# 在此处完成代码\n"
   ]
  },
  {
   "cell_type": "code",
   "execution_count": null,
   "metadata": {},
   "outputs": [],
   "source": [
    "# 查找支出金额最大的记录\n",
    "# 在此处完成代码\n"
   ]
  },
  {
   "cell_type": "code",
   "execution_count": null,
   "metadata": {},
   "outputs": [],
   "source": [
    "# 查找收入金额最大的记录\n",
    "# 在此处完成代码\n"
   ]
  },
  {
   "cell_type": "markdown",
   "metadata": {},
   "source": [
    "## 完成！\n",
    "\n",
    "恭喜你完成了第一次作业！通过这次作业，你应该已经掌握了如何读取CSV文件、查看数据结构、以及执行简单的数据筛选和排序操作。这些都是进行数据分析的基础技能，在后续的学习中将会非常有用。"
   ]
  }
 ],
 "metadata": {
  "kernelspec": {
   "display_name": "Python 3",
   "language": "python",
   "name": "python3"
  },
  "language_info": {
   "codemirror_mode": {
    "name": "ipython",
    "version": 3
   },
   "file_extension": ".py",
   "mimetype": "text/x-python",
   "name": "python",
   "nbconvert_exporter": "python",
   "pygments_lexer": "ipython3",
   "version": "3.7.0"
  }
 },
 "nbformat": 4,
 "nbformat_minor": 2
} 